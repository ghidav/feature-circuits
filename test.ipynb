{
 "cells": [
  {
   "cell_type": "code",
   "execution_count": 105,
   "metadata": {},
   "outputs": [
    {
     "name": "stdout",
     "output_type": "stream",
     "text": [
      "\u001b)0\u001b7\u001b[?47h\u001b[1;24r\u001b[m\u001b[4l\u001b[?1h\u001b=Fri Aug 02 12:18:38 2024\n",
      "╒═════════════════════════════════════════════════════════════════════════════╕\n",
      "│ NVITOP 1.3.2      Driver Version: 535.129.03      CUDA Driver Version: 12.2 │\n",
      "├───────────────────────────────┬──────────────────────┬──────────────────────┤\n",
      "│ GPU  Name        Persistence-M│ Bus-Id        Disp.A │ MIG M.   Uncorr. ECC │\n",
      "│ Fan  Temp  Perf  Pwr:Usage/Cap│         Memory-Usage │ GPU-Util  Compute M. │\n",
      "╞═══════════════════════════════╪══════════════════════╪══════════════════════╡\n",
      "│\u001b[33m   0  A100 80GB PCIe      On   \u001b[0m│\u001b[33m 00000000:81:00.0 Off \u001b[0m│\u001b[33m Disabled           0 \u001b[0m│\n",
      "│\u001b[33m N/A   36C    P0    58W / 300W \u001b[0m│\u001b[33m  32.83GiB / 80.00GiB \u001b[0m│\u001b[33m      0%      Default \u001b[0m│\n",
      "╘═══════════════════════════════╧══════════════════════╧══════════════════════╛\n",
      "\u001b[1m\u001b[36m[ CPU: ▎ 0.8%          UPTIME: 197.5 days ]\u001b[0m  \u001b[1m( Load Average:  8.75  3.60  1.75 )\u001b[0m\n",
      "\u001b[1m\u001b[35m[ MEM: █▌ 5.0%             USED: 10.30GiB ]\u001b[0m  \u001b[1m\u001b[34m[ SWP: ▎ 1.2%                     ]\u001b[0m\n",
      "\n",
      "╒══════════════════════════════════════════════════════════════════════════════╕\n",
      "│ Processes:                                                 \u001b[1m\u001b[33mroot\u001b[0m\u001b[1m@\u001b[0m\u001b[1m\u001b[32mb6041487791f\u001b[0m │\n",
      "│ GPU     PID      USER  GPU-MEM %SM  %CPU  %MEM  TIME  COMMAND                │\n",
      "╞══════════════════════════════════════════════════════════════════════════════╡\n",
      "│\u001b[33m   0\u001b[0m 1377875 C     N/A 32.82GiB   0   N/A   N/A   N/A  \u001b[31mNo Such Process\u001b[0m        │\n",
      "╘══════════════════════════════════════════════════════════════════════════════╛\n",
      "\u001b[1m\u001b[31mERROR:\u001b[0m Failed to initialize `curses` (curs_set() returned ERR)\n"
     ]
    }
   ],
   "source": [
    "!nvitop"
   ]
  },
  {
   "cell_type": "code",
   "execution_count": 1,
   "metadata": {},
   "outputs": [
    {
     "name": "stderr",
     "output_type": "stream",
     "text": [
      "/workspace/venv/lib/python3.10/site-packages/tqdm/auto.py:21: TqdmWarning: IProgress not found. Please update jupyter and ipywidgets. See https://ipywidgets.readthedocs.io/en/stable/user_install.html\n",
      "  from .autonotebook import tqdm as notebook_tqdm\n"
     ]
    }
   ],
   "source": [
    "from transformers import AutoModelForCausalLM, AutoTokenizer\n",
    "import json\n",
    "import os\n",
    "from utils import *\n",
    "\n",
    "os.environ[\"HF_TOKEN\"] = keys['huggingface']"
   ]
  },
  {
   "cell_type": "code",
   "execution_count": 2,
   "metadata": {},
   "outputs": [
    {
     "name": "stderr",
     "output_type": "stream",
     "text": [
      "Loading checkpoint shards: 100%|██████████| 3/3 [00:00<00:00, 11.90it/s]\n"
     ]
    }
   ],
   "source": [
    "model = AutoModelForCausalLM.from_pretrained(\"google/gemma-2-2b\").to('cuda')\n",
    "tokenizer = AutoTokenizer.from_pretrained(\"google/gemma-2-2b\")\n",
    "tokenizer.padding_side = \"left\""
   ]
  },
  {
   "cell_type": "markdown",
   "metadata": {},
   "source": [
    "## Eval"
   ]
  },
  {
   "cell_type": "code",
   "execution_count": 3,
   "metadata": {},
   "outputs": [],
   "source": [
    "import pandas as pd\n",
    "\n",
    "#examples = generate_dataset(N=9999, M=2, E=3)\n",
    "examples = pd.read_csv('gemma-2-2b.csv')"
   ]
  },
  {
   "cell_type": "code",
   "execution_count": 4,
   "metadata": {},
   "outputs": [
    {
     "name": "stderr",
     "output_type": "stream",
     "text": [
      "100%|██████████| 157/157 [16:54<00:00,  6.46s/it]\n"
     ]
    }
   ],
   "source": [
    "from utils import get_completions, get_predictions\n",
    "\n",
    "completions = []\n",
    "\n",
    "bs = 128\n",
    "K = 4\n",
    "\n",
    "for b in tqdm(range(0, len(examples), bs)):\n",
    "    example = examples[\"prompt\"].iloc[b : b + bs].tolist()\n",
    "    tokens = tokenizer(example, return_tensors='pt', padding=True)['input_ids'].to('cuda')  # [bs, seq_len]\n",
    "\n",
    "    for k in range(K):\n",
    "        with torch.no_grad():\n",
    "            logits = model(tokens).logits\n",
    "\n",
    "        new_tok = logits[:, -1].argmax(-1)  # [bs]\n",
    "        tokens = torch.cat([tokens, new_tok[:, None]], -1)\n",
    "\n",
    "    completions += tokenizer.batch_decode(tokens, skip_special_tokens=True)\n",
    "\n",
    "completions = pd.Series(completions).apply(lambda x: x.strip())\n",
    "\n",
    "predictions = get_predictions(completions)\n",
    "\n",
    "examples['completion'] = completions\n",
    "examples['prediction'] = predictions"
   ]
  },
  {
   "cell_type": "code",
   "execution_count": 7,
   "metadata": {},
   "outputs": [
    {
     "data": {
      "text/plain": [
       "0.9036903690369037"
      ]
     },
     "execution_count": 7,
     "metadata": {},
     "output_type": "execute_result"
    }
   ],
   "source": [
    "examples['correct'] = examples['solution'] == examples['prediction']\n",
    "examples['correct'].mean()"
   ]
  },
  {
   "cell_type": "code",
   "execution_count": 6,
   "metadata": {},
   "outputs": [],
   "source": [
    "examples['bin'] = pd.cut(examples['solution'], bins=range(0, 10000, 50), right=False)"
   ]
  },
  {
   "cell_type": "code",
   "execution_count": 8,
   "metadata": {},
   "outputs": [
    {
     "name": "stderr",
     "output_type": "stream",
     "text": [
      "/tmp/ipykernel_26071/526257734.py:3: FutureWarning:\n",
      "\n",
      "The default of observed=False is deprecated and will be changed to True in a future version of pandas. Pass observed=False to retain current behavior or observed=True to adopt the future default and silence this warning.\n",
      "\n"
     ]
    },
    {
     "data": {
      "application/vnd.plotly.v1+json": {
       "config": {
        "plotlyServerURL": "https://plot.ly"
       },
       "data": [
        {
         "alignmentgroup": "True",
         "hovertemplate": "Bin=%{x}<br>Accuracy=%{y}<extra></extra>",
         "legendgroup": "",
         "marker": {
          "color": "skyblue",
          "pattern": {
           "shape": ""
          }
         },
         "name": "",
         "offsetgroup": "",
         "orientation": "v",
         "showlegend": false,
         "textposition": "auto",
         "type": "bar",
         "x": [
          "[0, 50)",
          "[50, 100)",
          "[100, 150)",
          "[150, 200)",
          "[200, 250)",
          "[250, 300)",
          "[300, 350)",
          "[350, 400)",
          "[400, 450)",
          "[450, 500)",
          "[500, 550)",
          "[550, 600)",
          "[600, 650)",
          "[650, 700)",
          "[700, 750)",
          "[750, 800)",
          "[800, 850)",
          "[850, 900)",
          "[900, 950)",
          "[950, 1000)",
          "[1000, 1050)",
          "[1050, 1100)",
          "[1100, 1150)",
          "[1150, 1200)",
          "[1200, 1250)",
          "[1250, 1300)",
          "[1300, 1350)",
          "[1350, 1400)",
          "[1400, 1450)",
          "[1450, 1500)",
          "[1500, 1550)",
          "[1550, 1600)",
          "[1600, 1650)",
          "[1650, 1700)",
          "[1700, 1750)",
          "[1750, 1800)",
          "[1800, 1850)",
          "[1850, 1900)",
          "[1900, 1950)",
          "[1950, 2000)",
          "[2000, 2050)",
          "[2050, 2100)",
          "[2100, 2150)",
          "[2150, 2200)",
          "[2200, 2250)",
          "[2250, 2300)",
          "[2300, 2350)",
          "[2350, 2400)",
          "[2400, 2450)",
          "[2450, 2500)",
          "[2500, 2550)",
          "[2550, 2600)",
          "[2600, 2650)",
          "[2650, 2700)",
          "[2700, 2750)",
          "[2750, 2800)",
          "[2800, 2850)",
          "[2850, 2900)",
          "[2900, 2950)",
          "[2950, 3000)",
          "[3000, 3050)",
          "[3050, 3100)",
          "[3100, 3150)",
          "[3150, 3200)",
          "[3200, 3250)",
          "[3250, 3300)",
          "[3300, 3350)",
          "[3350, 3400)",
          "[3400, 3450)",
          "[3450, 3500)",
          "[3500, 3550)",
          "[3550, 3600)",
          "[3600, 3650)",
          "[3650, 3700)",
          "[3700, 3750)",
          "[3750, 3800)",
          "[3800, 3850)",
          "[3850, 3900)",
          "[3900, 3950)",
          "[3950, 4000)",
          "[4000, 4050)",
          "[4050, 4100)",
          "[4100, 4150)",
          "[4150, 4200)",
          "[4200, 4250)",
          "[4250, 4300)",
          "[4300, 4350)",
          "[4350, 4400)",
          "[4400, 4450)",
          "[4450, 4500)",
          "[4500, 4550)",
          "[4550, 4600)",
          "[4600, 4650)",
          "[4650, 4700)",
          "[4700, 4750)",
          "[4750, 4800)",
          "[4800, 4850)",
          "[4850, 4900)",
          "[4900, 4950)",
          "[4950, 5000)",
          "[5000, 5050)",
          "[5050, 5100)",
          "[5100, 5150)",
          "[5150, 5200)",
          "[5200, 5250)",
          "[5250, 5300)",
          "[5300, 5350)",
          "[5350, 5400)",
          "[5400, 5450)",
          "[5450, 5500)",
          "[5500, 5550)",
          "[5550, 5600)",
          "[5600, 5650)",
          "[5650, 5700)",
          "[5700, 5750)",
          "[5750, 5800)",
          "[5800, 5850)",
          "[5850, 5900)",
          "[5900, 5950)",
          "[5950, 6000)",
          "[6000, 6050)",
          "[6050, 6100)",
          "[6100, 6150)",
          "[6150, 6200)",
          "[6200, 6250)",
          "[6250, 6300)",
          "[6300, 6350)",
          "[6350, 6400)",
          "[6400, 6450)",
          "[6450, 6500)",
          "[6500, 6550)",
          "[6550, 6600)",
          "[6600, 6650)",
          "[6650, 6700)",
          "[6700, 6750)",
          "[6750, 6800)",
          "[6800, 6850)",
          "[6850, 6900)",
          "[6900, 6950)",
          "[6950, 7000)",
          "[7000, 7050)",
          "[7050, 7100)",
          "[7100, 7150)",
          "[7150, 7200)",
          "[7200, 7250)",
          "[7250, 7300)",
          "[7300, 7350)",
          "[7350, 7400)",
          "[7400, 7450)",
          "[7450, 7500)",
          "[7500, 7550)",
          "[7550, 7600)",
          "[7600, 7650)",
          "[7650, 7700)",
          "[7700, 7750)",
          "[7750, 7800)",
          "[7800, 7850)",
          "[7850, 7900)",
          "[7900, 7950)",
          "[7950, 8000)",
          "[8000, 8050)",
          "[8050, 8100)",
          "[8100, 8150)",
          "[8150, 8200)",
          "[8200, 8250)",
          "[8250, 8300)",
          "[8300, 8350)",
          "[8350, 8400)",
          "[8400, 8450)",
          "[8450, 8500)",
          "[8500, 8550)",
          "[8550, 8600)",
          "[8600, 8650)",
          "[8650, 8700)",
          "[8700, 8750)",
          "[8750, 8800)",
          "[8800, 8850)",
          "[8850, 8900)",
          "[8900, 8950)",
          "[8950, 9000)",
          "[9000, 9050)",
          "[9050, 9100)",
          "[9100, 9150)",
          "[9150, 9200)",
          "[9200, 9250)",
          "[9250, 9300)",
          "[9300, 9350)",
          "[9350, 9400)",
          "[9400, 9450)",
          "[9450, 9500)",
          "[9500, 9550)",
          "[9550, 9600)",
          "[9600, 9650)",
          "[9650, 9700)",
          "[9700, 9750)",
          "[9750, 9800)",
          "[9800, 9850)",
          "[9850, 9900)",
          "[9900, 9950)"
         ],
         "xaxis": "x",
         "y": [
          0.97,
          0.95,
          0.99,
          0.97,
          0.94,
          0.96,
          0.89,
          0.97,
          0.85,
          0.91,
          0.92,
          0.94,
          0.92,
          0.94,
          0.92,
          0.94,
          0.97,
          0.95,
          0.94,
          0.94,
          0.86,
          0.95,
          0.95,
          0.96,
          0.98,
          0.94,
          0.9,
          0.92,
          0.94,
          0.96,
          0.95,
          0.9,
          0.92,
          0.93,
          0.92,
          0.89,
          0.93,
          0.92,
          0.96,
          0.96,
          0.83,
          0.88,
          0.95,
          0.96,
          0.95,
          0.93,
          0.91,
          0.97,
          0.96,
          0.97,
          0.95,
          0.95,
          0.89,
          0.91,
          0.93,
          0.92,
          0.91,
          0.96,
          0.76,
          0.68,
          0.74,
          0.9,
          0.93,
          0.92,
          0.92,
          0.91,
          0.93,
          0.92,
          0.94,
          0.87,
          0.93,
          0.91,
          0.9,
          0.88,
          0.9,
          0.91,
          0.94,
          0.95,
          0.86,
          0.67,
          0.7,
          0.85,
          0.93,
          0.91,
          0.97,
          0.88,
          0.9,
          0.92,
          0.89,
          0.92,
          0.97,
          0.93,
          0.89,
          0.93,
          0.92,
          0.93,
          0.95,
          0.92,
          0.89,
          0.69,
          0.69,
          0.86,
          0.96,
          0.92,
          0.94,
          0.96,
          0.9,
          0.97,
          0.87,
          0.88,
          0.93,
          0.9,
          0.94,
          0.91,
          0.88,
          0.93,
          0.94,
          0.91,
          0.82,
          0.74,
          0.66,
          0.79,
          0.92,
          0.89,
          0.89,
          0.96,
          0.97,
          0.91,
          0.95,
          0.95,
          0.92,
          0.97,
          0.92,
          0.9,
          0.92,
          0.95,
          0.89,
          0.91,
          0.82,
          0.65,
          0.66,
          0.85,
          0.94,
          0.91,
          0.99,
          0.93,
          0.9,
          0.93,
          0.96,
          0.96,
          0.96,
          0.98,
          0.92,
          0.89,
          0.88,
          0.9,
          0.91,
          0.88,
          0.86,
          0.66,
          0.64,
          0.85,
          0.93,
          0.94,
          0.94,
          0.9,
          0.93,
          0.97,
          0.96,
          0.9,
          0.94,
          0.98,
          0.95,
          0.92,
          0.96,
          0.92,
          0.9,
          0.89,
          0.84,
          0.7,
          0.63,
          0.81,
          0.9,
          0.93,
          0.96,
          0.88,
          0.95,
          0.95,
          0.95,
          0.92,
          0.96,
          0.94,
          0.92,
          0.94,
          0.94,
          0.89,
          0.9,
          0.93,
          0.87
         ],
         "yaxis": "y"
        }
       ],
       "layout": {
        "barmode": "relative",
        "legend": {
         "tracegroupgap": 0
        },
        "paper_bgcolor": "white",
        "plot_bgcolor": "white",
        "template": {
         "data": {
          "bar": [
           {
            "error_x": {
             "color": "#2a3f5f"
            },
            "error_y": {
             "color": "#2a3f5f"
            },
            "marker": {
             "line": {
              "color": "white",
              "width": 0.5
             },
             "pattern": {
              "fillmode": "overlay",
              "size": 10,
              "solidity": 0.2
             }
            },
            "type": "bar"
           }
          ],
          "barpolar": [
           {
            "marker": {
             "line": {
              "color": "white",
              "width": 0.5
             },
             "pattern": {
              "fillmode": "overlay",
              "size": 10,
              "solidity": 0.2
             }
            },
            "type": "barpolar"
           }
          ],
          "carpet": [
           {
            "aaxis": {
             "endlinecolor": "#2a3f5f",
             "gridcolor": "#C8D4E3",
             "linecolor": "#C8D4E3",
             "minorgridcolor": "#C8D4E3",
             "startlinecolor": "#2a3f5f"
            },
            "baxis": {
             "endlinecolor": "#2a3f5f",
             "gridcolor": "#C8D4E3",
             "linecolor": "#C8D4E3",
             "minorgridcolor": "#C8D4E3",
             "startlinecolor": "#2a3f5f"
            },
            "type": "carpet"
           }
          ],
          "choropleth": [
           {
            "colorbar": {
             "outlinewidth": 0,
             "ticks": ""
            },
            "type": "choropleth"
           }
          ],
          "contour": [
           {
            "colorbar": {
             "outlinewidth": 0,
             "ticks": ""
            },
            "colorscale": [
             [
              0,
              "#0d0887"
             ],
             [
              0.1111111111111111,
              "#46039f"
             ],
             [
              0.2222222222222222,
              "#7201a8"
             ],
             [
              0.3333333333333333,
              "#9c179e"
             ],
             [
              0.4444444444444444,
              "#bd3786"
             ],
             [
              0.5555555555555556,
              "#d8576b"
             ],
             [
              0.6666666666666666,
              "#ed7953"
             ],
             [
              0.7777777777777778,
              "#fb9f3a"
             ],
             [
              0.8888888888888888,
              "#fdca26"
             ],
             [
              1,
              "#f0f921"
             ]
            ],
            "type": "contour"
           }
          ],
          "contourcarpet": [
           {
            "colorbar": {
             "outlinewidth": 0,
             "ticks": ""
            },
            "type": "contourcarpet"
           }
          ],
          "heatmap": [
           {
            "colorbar": {
             "outlinewidth": 0,
             "ticks": ""
            },
            "colorscale": [
             [
              0,
              "#0d0887"
             ],
             [
              0.1111111111111111,
              "#46039f"
             ],
             [
              0.2222222222222222,
              "#7201a8"
             ],
             [
              0.3333333333333333,
              "#9c179e"
             ],
             [
              0.4444444444444444,
              "#bd3786"
             ],
             [
              0.5555555555555556,
              "#d8576b"
             ],
             [
              0.6666666666666666,
              "#ed7953"
             ],
             [
              0.7777777777777778,
              "#fb9f3a"
             ],
             [
              0.8888888888888888,
              "#fdca26"
             ],
             [
              1,
              "#f0f921"
             ]
            ],
            "type": "heatmap"
           }
          ],
          "heatmapgl": [
           {
            "colorbar": {
             "outlinewidth": 0,
             "ticks": ""
            },
            "colorscale": [
             [
              0,
              "#0d0887"
             ],
             [
              0.1111111111111111,
              "#46039f"
             ],
             [
              0.2222222222222222,
              "#7201a8"
             ],
             [
              0.3333333333333333,
              "#9c179e"
             ],
             [
              0.4444444444444444,
              "#bd3786"
             ],
             [
              0.5555555555555556,
              "#d8576b"
             ],
             [
              0.6666666666666666,
              "#ed7953"
             ],
             [
              0.7777777777777778,
              "#fb9f3a"
             ],
             [
              0.8888888888888888,
              "#fdca26"
             ],
             [
              1,
              "#f0f921"
             ]
            ],
            "type": "heatmapgl"
           }
          ],
          "histogram": [
           {
            "marker": {
             "pattern": {
              "fillmode": "overlay",
              "size": 10,
              "solidity": 0.2
             }
            },
            "type": "histogram"
           }
          ],
          "histogram2d": [
           {
            "colorbar": {
             "outlinewidth": 0,
             "ticks": ""
            },
            "colorscale": [
             [
              0,
              "#0d0887"
             ],
             [
              0.1111111111111111,
              "#46039f"
             ],
             [
              0.2222222222222222,
              "#7201a8"
             ],
             [
              0.3333333333333333,
              "#9c179e"
             ],
             [
              0.4444444444444444,
              "#bd3786"
             ],
             [
              0.5555555555555556,
              "#d8576b"
             ],
             [
              0.6666666666666666,
              "#ed7953"
             ],
             [
              0.7777777777777778,
              "#fb9f3a"
             ],
             [
              0.8888888888888888,
              "#fdca26"
             ],
             [
              1,
              "#f0f921"
             ]
            ],
            "type": "histogram2d"
           }
          ],
          "histogram2dcontour": [
           {
            "colorbar": {
             "outlinewidth": 0,
             "ticks": ""
            },
            "colorscale": [
             [
              0,
              "#0d0887"
             ],
             [
              0.1111111111111111,
              "#46039f"
             ],
             [
              0.2222222222222222,
              "#7201a8"
             ],
             [
              0.3333333333333333,
              "#9c179e"
             ],
             [
              0.4444444444444444,
              "#bd3786"
             ],
             [
              0.5555555555555556,
              "#d8576b"
             ],
             [
              0.6666666666666666,
              "#ed7953"
             ],
             [
              0.7777777777777778,
              "#fb9f3a"
             ],
             [
              0.8888888888888888,
              "#fdca26"
             ],
             [
              1,
              "#f0f921"
             ]
            ],
            "type": "histogram2dcontour"
           }
          ],
          "mesh3d": [
           {
            "colorbar": {
             "outlinewidth": 0,
             "ticks": ""
            },
            "type": "mesh3d"
           }
          ],
          "parcoords": [
           {
            "line": {
             "colorbar": {
              "outlinewidth": 0,
              "ticks": ""
             }
            },
            "type": "parcoords"
           }
          ],
          "pie": [
           {
            "automargin": true,
            "type": "pie"
           }
          ],
          "scatter": [
           {
            "fillpattern": {
             "fillmode": "overlay",
             "size": 10,
             "solidity": 0.2
            },
            "type": "scatter"
           }
          ],
          "scatter3d": [
           {
            "line": {
             "colorbar": {
              "outlinewidth": 0,
              "ticks": ""
             }
            },
            "marker": {
             "colorbar": {
              "outlinewidth": 0,
              "ticks": ""
             }
            },
            "type": "scatter3d"
           }
          ],
          "scattercarpet": [
           {
            "marker": {
             "colorbar": {
              "outlinewidth": 0,
              "ticks": ""
             }
            },
            "type": "scattercarpet"
           }
          ],
          "scattergeo": [
           {
            "marker": {
             "colorbar": {
              "outlinewidth": 0,
              "ticks": ""
             }
            },
            "type": "scattergeo"
           }
          ],
          "scattergl": [
           {
            "marker": {
             "colorbar": {
              "outlinewidth": 0,
              "ticks": ""
             }
            },
            "type": "scattergl"
           }
          ],
          "scattermapbox": [
           {
            "marker": {
             "colorbar": {
              "outlinewidth": 0,
              "ticks": ""
             }
            },
            "type": "scattermapbox"
           }
          ],
          "scatterpolar": [
           {
            "marker": {
             "colorbar": {
              "outlinewidth": 0,
              "ticks": ""
             }
            },
            "type": "scatterpolar"
           }
          ],
          "scatterpolargl": [
           {
            "marker": {
             "colorbar": {
              "outlinewidth": 0,
              "ticks": ""
             }
            },
            "type": "scatterpolargl"
           }
          ],
          "scatterternary": [
           {
            "marker": {
             "colorbar": {
              "outlinewidth": 0,
              "ticks": ""
             }
            },
            "type": "scatterternary"
           }
          ],
          "surface": [
           {
            "colorbar": {
             "outlinewidth": 0,
             "ticks": ""
            },
            "colorscale": [
             [
              0,
              "#0d0887"
             ],
             [
              0.1111111111111111,
              "#46039f"
             ],
             [
              0.2222222222222222,
              "#7201a8"
             ],
             [
              0.3333333333333333,
              "#9c179e"
             ],
             [
              0.4444444444444444,
              "#bd3786"
             ],
             [
              0.5555555555555556,
              "#d8576b"
             ],
             [
              0.6666666666666666,
              "#ed7953"
             ],
             [
              0.7777777777777778,
              "#fb9f3a"
             ],
             [
              0.8888888888888888,
              "#fdca26"
             ],
             [
              1,
              "#f0f921"
             ]
            ],
            "type": "surface"
           }
          ],
          "table": [
           {
            "cells": {
             "fill": {
              "color": "#EBF0F8"
             },
             "line": {
              "color": "white"
             }
            },
            "header": {
             "fill": {
              "color": "#C8D4E3"
             },
             "line": {
              "color": "white"
             }
            },
            "type": "table"
           }
          ]
         },
         "layout": {
          "annotationdefaults": {
           "arrowcolor": "#2a3f5f",
           "arrowhead": 0,
           "arrowwidth": 1
          },
          "autotypenumbers": "strict",
          "coloraxis": {
           "colorbar": {
            "outlinewidth": 0,
            "ticks": ""
           }
          },
          "colorscale": {
           "diverging": [
            [
             0,
             "#8e0152"
            ],
            [
             0.1,
             "#c51b7d"
            ],
            [
             0.2,
             "#de77ae"
            ],
            [
             0.3,
             "#f1b6da"
            ],
            [
             0.4,
             "#fde0ef"
            ],
            [
             0.5,
             "#f7f7f7"
            ],
            [
             0.6,
             "#e6f5d0"
            ],
            [
             0.7,
             "#b8e186"
            ],
            [
             0.8,
             "#7fbc41"
            ],
            [
             0.9,
             "#4d9221"
            ],
            [
             1,
             "#276419"
            ]
           ],
           "sequential": [
            [
             0,
             "#0d0887"
            ],
            [
             0.1111111111111111,
             "#46039f"
            ],
            [
             0.2222222222222222,
             "#7201a8"
            ],
            [
             0.3333333333333333,
             "#9c179e"
            ],
            [
             0.4444444444444444,
             "#bd3786"
            ],
            [
             0.5555555555555556,
             "#d8576b"
            ],
            [
             0.6666666666666666,
             "#ed7953"
            ],
            [
             0.7777777777777778,
             "#fb9f3a"
            ],
            [
             0.8888888888888888,
             "#fdca26"
            ],
            [
             1,
             "#f0f921"
            ]
           ],
           "sequentialminus": [
            [
             0,
             "#0d0887"
            ],
            [
             0.1111111111111111,
             "#46039f"
            ],
            [
             0.2222222222222222,
             "#7201a8"
            ],
            [
             0.3333333333333333,
             "#9c179e"
            ],
            [
             0.4444444444444444,
             "#bd3786"
            ],
            [
             0.5555555555555556,
             "#d8576b"
            ],
            [
             0.6666666666666666,
             "#ed7953"
            ],
            [
             0.7777777777777778,
             "#fb9f3a"
            ],
            [
             0.8888888888888888,
             "#fdca26"
            ],
            [
             1,
             "#f0f921"
            ]
           ]
          },
          "colorway": [
           "#636efa",
           "#EF553B",
           "#00cc96",
           "#ab63fa",
           "#FFA15A",
           "#19d3f3",
           "#FF6692",
           "#B6E880",
           "#FF97FF",
           "#FECB52"
          ],
          "font": {
           "color": "#2a3f5f"
          },
          "geo": {
           "bgcolor": "white",
           "lakecolor": "white",
           "landcolor": "white",
           "showlakes": true,
           "showland": true,
           "subunitcolor": "#C8D4E3"
          },
          "hoverlabel": {
           "align": "left"
          },
          "hovermode": "closest",
          "mapbox": {
           "style": "light"
          },
          "paper_bgcolor": "white",
          "plot_bgcolor": "white",
          "polar": {
           "angularaxis": {
            "gridcolor": "#EBF0F8",
            "linecolor": "#EBF0F8",
            "ticks": ""
           },
           "bgcolor": "white",
           "radialaxis": {
            "gridcolor": "#EBF0F8",
            "linecolor": "#EBF0F8",
            "ticks": ""
           }
          },
          "scene": {
           "xaxis": {
            "backgroundcolor": "white",
            "gridcolor": "#DFE8F3",
            "gridwidth": 2,
            "linecolor": "#EBF0F8",
            "showbackground": true,
            "ticks": "",
            "zerolinecolor": "#EBF0F8"
           },
           "yaxis": {
            "backgroundcolor": "white",
            "gridcolor": "#DFE8F3",
            "gridwidth": 2,
            "linecolor": "#EBF0F8",
            "showbackground": true,
            "ticks": "",
            "zerolinecolor": "#EBF0F8"
           },
           "zaxis": {
            "backgroundcolor": "white",
            "gridcolor": "#DFE8F3",
            "gridwidth": 2,
            "linecolor": "#EBF0F8",
            "showbackground": true,
            "ticks": "",
            "zerolinecolor": "#EBF0F8"
           }
          },
          "shapedefaults": {
           "line": {
            "color": "#2a3f5f"
           }
          },
          "ternary": {
           "aaxis": {
            "gridcolor": "#DFE8F3",
            "linecolor": "#A2B1C6",
            "ticks": ""
           },
           "baxis": {
            "gridcolor": "#DFE8F3",
            "linecolor": "#A2B1C6",
            "ticks": ""
           },
           "bgcolor": "white",
           "caxis": {
            "gridcolor": "#DFE8F3",
            "linecolor": "#A2B1C6",
            "ticks": ""
           }
          },
          "title": {
           "x": 0.05
          },
          "xaxis": {
           "automargin": true,
           "gridcolor": "#EBF0F8",
           "linecolor": "#EBF0F8",
           "ticks": "",
           "title": {
            "standoff": 15
           },
           "zerolinecolor": "#EBF0F8",
           "zerolinewidth": 2
          },
          "yaxis": {
           "automargin": true,
           "gridcolor": "#EBF0F8",
           "linecolor": "#EBF0F8",
           "ticks": "",
           "title": {
            "standoff": 15
           },
           "zerolinecolor": "#EBF0F8",
           "zerolinewidth": 2
          }
         }
        },
        "title": {
         "text": "Gemma-2-2b accuracy by bin"
        },
        "xaxis": {
         "anchor": "y",
         "domain": [
          0,
          1
         ],
         "tickangle": 90,
         "title": {
          "text": "Bin"
         }
        },
        "yaxis": {
         "anchor": "x",
         "domain": [
          0,
          1
         ],
         "title": {
          "text": "Accuracy"
         }
        }
       }
      },
      "text/html": [
       "<div>                            <div id=\"02ad23bc-2026-4031-86cf-f1f4d2c0e151\" class=\"plotly-graph-div\" style=\"height:525px; width:100%;\"></div>            <script type=\"text/javascript\">                require([\"plotly\"], function(Plotly) {                    window.PLOTLYENV=window.PLOTLYENV || {};                                    if (document.getElementById(\"02ad23bc-2026-4031-86cf-f1f4d2c0e151\")) {                    Plotly.newPlot(                        \"02ad23bc-2026-4031-86cf-f1f4d2c0e151\",                        [{\"alignmentgroup\":\"True\",\"hovertemplate\":\"Bin=%{x}\\u003cbr\\u003eAccuracy=%{y}\\u003cextra\\u003e\\u003c\\u002fextra\\u003e\",\"legendgroup\":\"\",\"marker\":{\"color\":\"skyblue\",\"pattern\":{\"shape\":\"\"}},\"name\":\"\",\"offsetgroup\":\"\",\"orientation\":\"v\",\"showlegend\":false,\"textposition\":\"auto\",\"x\":[\"[0, 50)\",\"[50, 100)\",\"[100, 150)\",\"[150, 200)\",\"[200, 250)\",\"[250, 300)\",\"[300, 350)\",\"[350, 400)\",\"[400, 450)\",\"[450, 500)\",\"[500, 550)\",\"[550, 600)\",\"[600, 650)\",\"[650, 700)\",\"[700, 750)\",\"[750, 800)\",\"[800, 850)\",\"[850, 900)\",\"[900, 950)\",\"[950, 1000)\",\"[1000, 1050)\",\"[1050, 1100)\",\"[1100, 1150)\",\"[1150, 1200)\",\"[1200, 1250)\",\"[1250, 1300)\",\"[1300, 1350)\",\"[1350, 1400)\",\"[1400, 1450)\",\"[1450, 1500)\",\"[1500, 1550)\",\"[1550, 1600)\",\"[1600, 1650)\",\"[1650, 1700)\",\"[1700, 1750)\",\"[1750, 1800)\",\"[1800, 1850)\",\"[1850, 1900)\",\"[1900, 1950)\",\"[1950, 2000)\",\"[2000, 2050)\",\"[2050, 2100)\",\"[2100, 2150)\",\"[2150, 2200)\",\"[2200, 2250)\",\"[2250, 2300)\",\"[2300, 2350)\",\"[2350, 2400)\",\"[2400, 2450)\",\"[2450, 2500)\",\"[2500, 2550)\",\"[2550, 2600)\",\"[2600, 2650)\",\"[2650, 2700)\",\"[2700, 2750)\",\"[2750, 2800)\",\"[2800, 2850)\",\"[2850, 2900)\",\"[2900, 2950)\",\"[2950, 3000)\",\"[3000, 3050)\",\"[3050, 3100)\",\"[3100, 3150)\",\"[3150, 3200)\",\"[3200, 3250)\",\"[3250, 3300)\",\"[3300, 3350)\",\"[3350, 3400)\",\"[3400, 3450)\",\"[3450, 3500)\",\"[3500, 3550)\",\"[3550, 3600)\",\"[3600, 3650)\",\"[3650, 3700)\",\"[3700, 3750)\",\"[3750, 3800)\",\"[3800, 3850)\",\"[3850, 3900)\",\"[3900, 3950)\",\"[3950, 4000)\",\"[4000, 4050)\",\"[4050, 4100)\",\"[4100, 4150)\",\"[4150, 4200)\",\"[4200, 4250)\",\"[4250, 4300)\",\"[4300, 4350)\",\"[4350, 4400)\",\"[4400, 4450)\",\"[4450, 4500)\",\"[4500, 4550)\",\"[4550, 4600)\",\"[4600, 4650)\",\"[4650, 4700)\",\"[4700, 4750)\",\"[4750, 4800)\",\"[4800, 4850)\",\"[4850, 4900)\",\"[4900, 4950)\",\"[4950, 5000)\",\"[5000, 5050)\",\"[5050, 5100)\",\"[5100, 5150)\",\"[5150, 5200)\",\"[5200, 5250)\",\"[5250, 5300)\",\"[5300, 5350)\",\"[5350, 5400)\",\"[5400, 5450)\",\"[5450, 5500)\",\"[5500, 5550)\",\"[5550, 5600)\",\"[5600, 5650)\",\"[5650, 5700)\",\"[5700, 5750)\",\"[5750, 5800)\",\"[5800, 5850)\",\"[5850, 5900)\",\"[5900, 5950)\",\"[5950, 6000)\",\"[6000, 6050)\",\"[6050, 6100)\",\"[6100, 6150)\",\"[6150, 6200)\",\"[6200, 6250)\",\"[6250, 6300)\",\"[6300, 6350)\",\"[6350, 6400)\",\"[6400, 6450)\",\"[6450, 6500)\",\"[6500, 6550)\",\"[6550, 6600)\",\"[6600, 6650)\",\"[6650, 6700)\",\"[6700, 6750)\",\"[6750, 6800)\",\"[6800, 6850)\",\"[6850, 6900)\",\"[6900, 6950)\",\"[6950, 7000)\",\"[7000, 7050)\",\"[7050, 7100)\",\"[7100, 7150)\",\"[7150, 7200)\",\"[7200, 7250)\",\"[7250, 7300)\",\"[7300, 7350)\",\"[7350, 7400)\",\"[7400, 7450)\",\"[7450, 7500)\",\"[7500, 7550)\",\"[7550, 7600)\",\"[7600, 7650)\",\"[7650, 7700)\",\"[7700, 7750)\",\"[7750, 7800)\",\"[7800, 7850)\",\"[7850, 7900)\",\"[7900, 7950)\",\"[7950, 8000)\",\"[8000, 8050)\",\"[8050, 8100)\",\"[8100, 8150)\",\"[8150, 8200)\",\"[8200, 8250)\",\"[8250, 8300)\",\"[8300, 8350)\",\"[8350, 8400)\",\"[8400, 8450)\",\"[8450, 8500)\",\"[8500, 8550)\",\"[8550, 8600)\",\"[8600, 8650)\",\"[8650, 8700)\",\"[8700, 8750)\",\"[8750, 8800)\",\"[8800, 8850)\",\"[8850, 8900)\",\"[8900, 8950)\",\"[8950, 9000)\",\"[9000, 9050)\",\"[9050, 9100)\",\"[9100, 9150)\",\"[9150, 9200)\",\"[9200, 9250)\",\"[9250, 9300)\",\"[9300, 9350)\",\"[9350, 9400)\",\"[9400, 9450)\",\"[9450, 9500)\",\"[9500, 9550)\",\"[9550, 9600)\",\"[9600, 9650)\",\"[9650, 9700)\",\"[9700, 9750)\",\"[9750, 9800)\",\"[9800, 9850)\",\"[9850, 9900)\",\"[9900, 9950)\"],\"xaxis\":\"x\",\"y\":[0.97,0.95,0.99,0.97,0.94,0.96,0.89,0.97,0.85,0.91,0.92,0.94,0.92,0.94,0.92,0.94,0.97,0.95,0.94,0.94,0.86,0.95,0.95,0.96,0.98,0.94,0.9,0.92,0.94,0.96,0.95,0.9,0.92,0.93,0.92,0.89,0.93,0.92,0.96,0.96,0.83,0.88,0.95,0.96,0.95,0.93,0.91,0.97,0.96,0.97,0.95,0.95,0.89,0.91,0.93,0.92,0.91,0.96,0.76,0.68,0.74,0.9,0.93,0.92,0.92,0.91,0.93,0.92,0.94,0.87,0.93,0.91,0.9,0.88,0.9,0.91,0.94,0.95,0.86,0.67,0.7,0.85,0.93,0.91,0.97,0.88,0.9,0.92,0.89,0.92,0.97,0.93,0.89,0.93,0.92,0.93,0.95,0.92,0.89,0.69,0.69,0.86,0.96,0.92,0.94,0.96,0.9,0.97,0.87,0.88,0.93,0.9,0.94,0.91,0.88,0.93,0.94,0.91,0.82,0.74,0.66,0.79,0.92,0.89,0.89,0.96,0.97,0.91,0.95,0.95,0.92,0.97,0.92,0.9,0.92,0.95,0.89,0.91,0.82,0.65,0.66,0.85,0.94,0.91,0.99,0.93,0.9,0.93,0.96,0.96,0.96,0.98,0.92,0.89,0.88,0.9,0.91,0.88,0.86,0.66,0.64,0.85,0.93,0.94,0.94,0.9,0.93,0.97,0.96,0.9,0.94,0.98,0.95,0.92,0.96,0.92,0.9,0.89,0.84,0.7,0.63,0.81,0.9,0.93,0.96,0.88,0.95,0.95,0.95,0.92,0.96,0.94,0.92,0.94,0.94,0.89,0.9,0.93,0.87],\"yaxis\":\"y\",\"type\":\"bar\"}],                        {\"template\":{\"data\":{\"barpolar\":[{\"marker\":{\"line\":{\"color\":\"white\",\"width\":0.5},\"pattern\":{\"fillmode\":\"overlay\",\"size\":10,\"solidity\":0.2}},\"type\":\"barpolar\"}],\"bar\":[{\"error_x\":{\"color\":\"#2a3f5f\"},\"error_y\":{\"color\":\"#2a3f5f\"},\"marker\":{\"line\":{\"color\":\"white\",\"width\":0.5},\"pattern\":{\"fillmode\":\"overlay\",\"size\":10,\"solidity\":0.2}},\"type\":\"bar\"}],\"carpet\":[{\"aaxis\":{\"endlinecolor\":\"#2a3f5f\",\"gridcolor\":\"#C8D4E3\",\"linecolor\":\"#C8D4E3\",\"minorgridcolor\":\"#C8D4E3\",\"startlinecolor\":\"#2a3f5f\"},\"baxis\":{\"endlinecolor\":\"#2a3f5f\",\"gridcolor\":\"#C8D4E3\",\"linecolor\":\"#C8D4E3\",\"minorgridcolor\":\"#C8D4E3\",\"startlinecolor\":\"#2a3f5f\"},\"type\":\"carpet\"}],\"choropleth\":[{\"colorbar\":{\"outlinewidth\":0,\"ticks\":\"\"},\"type\":\"choropleth\"}],\"contourcarpet\":[{\"colorbar\":{\"outlinewidth\":0,\"ticks\":\"\"},\"type\":\"contourcarpet\"}],\"contour\":[{\"colorbar\":{\"outlinewidth\":0,\"ticks\":\"\"},\"colorscale\":[[0.0,\"#0d0887\"],[0.1111111111111111,\"#46039f\"],[0.2222222222222222,\"#7201a8\"],[0.3333333333333333,\"#9c179e\"],[0.4444444444444444,\"#bd3786\"],[0.5555555555555556,\"#d8576b\"],[0.6666666666666666,\"#ed7953\"],[0.7777777777777778,\"#fb9f3a\"],[0.8888888888888888,\"#fdca26\"],[1.0,\"#f0f921\"]],\"type\":\"contour\"}],\"heatmapgl\":[{\"colorbar\":{\"outlinewidth\":0,\"ticks\":\"\"},\"colorscale\":[[0.0,\"#0d0887\"],[0.1111111111111111,\"#46039f\"],[0.2222222222222222,\"#7201a8\"],[0.3333333333333333,\"#9c179e\"],[0.4444444444444444,\"#bd3786\"],[0.5555555555555556,\"#d8576b\"],[0.6666666666666666,\"#ed7953\"],[0.7777777777777778,\"#fb9f3a\"],[0.8888888888888888,\"#fdca26\"],[1.0,\"#f0f921\"]],\"type\":\"heatmapgl\"}],\"heatmap\":[{\"colorbar\":{\"outlinewidth\":0,\"ticks\":\"\"},\"colorscale\":[[0.0,\"#0d0887\"],[0.1111111111111111,\"#46039f\"],[0.2222222222222222,\"#7201a8\"],[0.3333333333333333,\"#9c179e\"],[0.4444444444444444,\"#bd3786\"],[0.5555555555555556,\"#d8576b\"],[0.6666666666666666,\"#ed7953\"],[0.7777777777777778,\"#fb9f3a\"],[0.8888888888888888,\"#fdca26\"],[1.0,\"#f0f921\"]],\"type\":\"heatmap\"}],\"histogram2dcontour\":[{\"colorbar\":{\"outlinewidth\":0,\"ticks\":\"\"},\"colorscale\":[[0.0,\"#0d0887\"],[0.1111111111111111,\"#46039f\"],[0.2222222222222222,\"#7201a8\"],[0.3333333333333333,\"#9c179e\"],[0.4444444444444444,\"#bd3786\"],[0.5555555555555556,\"#d8576b\"],[0.6666666666666666,\"#ed7953\"],[0.7777777777777778,\"#fb9f3a\"],[0.8888888888888888,\"#fdca26\"],[1.0,\"#f0f921\"]],\"type\":\"histogram2dcontour\"}],\"histogram2d\":[{\"colorbar\":{\"outlinewidth\":0,\"ticks\":\"\"},\"colorscale\":[[0.0,\"#0d0887\"],[0.1111111111111111,\"#46039f\"],[0.2222222222222222,\"#7201a8\"],[0.3333333333333333,\"#9c179e\"],[0.4444444444444444,\"#bd3786\"],[0.5555555555555556,\"#d8576b\"],[0.6666666666666666,\"#ed7953\"],[0.7777777777777778,\"#fb9f3a\"],[0.8888888888888888,\"#fdca26\"],[1.0,\"#f0f921\"]],\"type\":\"histogram2d\"}],\"histogram\":[{\"marker\":{\"pattern\":{\"fillmode\":\"overlay\",\"size\":10,\"solidity\":0.2}},\"type\":\"histogram\"}],\"mesh3d\":[{\"colorbar\":{\"outlinewidth\":0,\"ticks\":\"\"},\"type\":\"mesh3d\"}],\"parcoords\":[{\"line\":{\"colorbar\":{\"outlinewidth\":0,\"ticks\":\"\"}},\"type\":\"parcoords\"}],\"pie\":[{\"automargin\":true,\"type\":\"pie\"}],\"scatter3d\":[{\"line\":{\"colorbar\":{\"outlinewidth\":0,\"ticks\":\"\"}},\"marker\":{\"colorbar\":{\"outlinewidth\":0,\"ticks\":\"\"}},\"type\":\"scatter3d\"}],\"scattercarpet\":[{\"marker\":{\"colorbar\":{\"outlinewidth\":0,\"ticks\":\"\"}},\"type\":\"scattercarpet\"}],\"scattergeo\":[{\"marker\":{\"colorbar\":{\"outlinewidth\":0,\"ticks\":\"\"}},\"type\":\"scattergeo\"}],\"scattergl\":[{\"marker\":{\"colorbar\":{\"outlinewidth\":0,\"ticks\":\"\"}},\"type\":\"scattergl\"}],\"scattermapbox\":[{\"marker\":{\"colorbar\":{\"outlinewidth\":0,\"ticks\":\"\"}},\"type\":\"scattermapbox\"}],\"scatterpolargl\":[{\"marker\":{\"colorbar\":{\"outlinewidth\":0,\"ticks\":\"\"}},\"type\":\"scatterpolargl\"}],\"scatterpolar\":[{\"marker\":{\"colorbar\":{\"outlinewidth\":0,\"ticks\":\"\"}},\"type\":\"scatterpolar\"}],\"scatter\":[{\"fillpattern\":{\"fillmode\":\"overlay\",\"size\":10,\"solidity\":0.2},\"type\":\"scatter\"}],\"scatterternary\":[{\"marker\":{\"colorbar\":{\"outlinewidth\":0,\"ticks\":\"\"}},\"type\":\"scatterternary\"}],\"surface\":[{\"colorbar\":{\"outlinewidth\":0,\"ticks\":\"\"},\"colorscale\":[[0.0,\"#0d0887\"],[0.1111111111111111,\"#46039f\"],[0.2222222222222222,\"#7201a8\"],[0.3333333333333333,\"#9c179e\"],[0.4444444444444444,\"#bd3786\"],[0.5555555555555556,\"#d8576b\"],[0.6666666666666666,\"#ed7953\"],[0.7777777777777778,\"#fb9f3a\"],[0.8888888888888888,\"#fdca26\"],[1.0,\"#f0f921\"]],\"type\":\"surface\"}],\"table\":[{\"cells\":{\"fill\":{\"color\":\"#EBF0F8\"},\"line\":{\"color\":\"white\"}},\"header\":{\"fill\":{\"color\":\"#C8D4E3\"},\"line\":{\"color\":\"white\"}},\"type\":\"table\"}]},\"layout\":{\"annotationdefaults\":{\"arrowcolor\":\"#2a3f5f\",\"arrowhead\":0,\"arrowwidth\":1},\"autotypenumbers\":\"strict\",\"coloraxis\":{\"colorbar\":{\"outlinewidth\":0,\"ticks\":\"\"}},\"colorscale\":{\"diverging\":[[0,\"#8e0152\"],[0.1,\"#c51b7d\"],[0.2,\"#de77ae\"],[0.3,\"#f1b6da\"],[0.4,\"#fde0ef\"],[0.5,\"#f7f7f7\"],[0.6,\"#e6f5d0\"],[0.7,\"#b8e186\"],[0.8,\"#7fbc41\"],[0.9,\"#4d9221\"],[1,\"#276419\"]],\"sequential\":[[0.0,\"#0d0887\"],[0.1111111111111111,\"#46039f\"],[0.2222222222222222,\"#7201a8\"],[0.3333333333333333,\"#9c179e\"],[0.4444444444444444,\"#bd3786\"],[0.5555555555555556,\"#d8576b\"],[0.6666666666666666,\"#ed7953\"],[0.7777777777777778,\"#fb9f3a\"],[0.8888888888888888,\"#fdca26\"],[1.0,\"#f0f921\"]],\"sequentialminus\":[[0.0,\"#0d0887\"],[0.1111111111111111,\"#46039f\"],[0.2222222222222222,\"#7201a8\"],[0.3333333333333333,\"#9c179e\"],[0.4444444444444444,\"#bd3786\"],[0.5555555555555556,\"#d8576b\"],[0.6666666666666666,\"#ed7953\"],[0.7777777777777778,\"#fb9f3a\"],[0.8888888888888888,\"#fdca26\"],[1.0,\"#f0f921\"]]},\"colorway\":[\"#636efa\",\"#EF553B\",\"#00cc96\",\"#ab63fa\",\"#FFA15A\",\"#19d3f3\",\"#FF6692\",\"#B6E880\",\"#FF97FF\",\"#FECB52\"],\"font\":{\"color\":\"#2a3f5f\"},\"geo\":{\"bgcolor\":\"white\",\"lakecolor\":\"white\",\"landcolor\":\"white\",\"showlakes\":true,\"showland\":true,\"subunitcolor\":\"#C8D4E3\"},\"hoverlabel\":{\"align\":\"left\"},\"hovermode\":\"closest\",\"mapbox\":{\"style\":\"light\"},\"paper_bgcolor\":\"white\",\"plot_bgcolor\":\"white\",\"polar\":{\"angularaxis\":{\"gridcolor\":\"#EBF0F8\",\"linecolor\":\"#EBF0F8\",\"ticks\":\"\"},\"bgcolor\":\"white\",\"radialaxis\":{\"gridcolor\":\"#EBF0F8\",\"linecolor\":\"#EBF0F8\",\"ticks\":\"\"}},\"scene\":{\"xaxis\":{\"backgroundcolor\":\"white\",\"gridcolor\":\"#DFE8F3\",\"gridwidth\":2,\"linecolor\":\"#EBF0F8\",\"showbackground\":true,\"ticks\":\"\",\"zerolinecolor\":\"#EBF0F8\"},\"yaxis\":{\"backgroundcolor\":\"white\",\"gridcolor\":\"#DFE8F3\",\"gridwidth\":2,\"linecolor\":\"#EBF0F8\",\"showbackground\":true,\"ticks\":\"\",\"zerolinecolor\":\"#EBF0F8\"},\"zaxis\":{\"backgroundcolor\":\"white\",\"gridcolor\":\"#DFE8F3\",\"gridwidth\":2,\"linecolor\":\"#EBF0F8\",\"showbackground\":true,\"ticks\":\"\",\"zerolinecolor\":\"#EBF0F8\"}},\"shapedefaults\":{\"line\":{\"color\":\"#2a3f5f\"}},\"ternary\":{\"aaxis\":{\"gridcolor\":\"#DFE8F3\",\"linecolor\":\"#A2B1C6\",\"ticks\":\"\"},\"baxis\":{\"gridcolor\":\"#DFE8F3\",\"linecolor\":\"#A2B1C6\",\"ticks\":\"\"},\"bgcolor\":\"white\",\"caxis\":{\"gridcolor\":\"#DFE8F3\",\"linecolor\":\"#A2B1C6\",\"ticks\":\"\"}},\"title\":{\"x\":0.05},\"xaxis\":{\"automargin\":true,\"gridcolor\":\"#EBF0F8\",\"linecolor\":\"#EBF0F8\",\"ticks\":\"\",\"title\":{\"standoff\":15},\"zerolinecolor\":\"#EBF0F8\",\"zerolinewidth\":2},\"yaxis\":{\"automargin\":true,\"gridcolor\":\"#EBF0F8\",\"linecolor\":\"#EBF0F8\",\"ticks\":\"\",\"title\":{\"standoff\":15},\"zerolinecolor\":\"#EBF0F8\",\"zerolinewidth\":2}}},\"xaxis\":{\"anchor\":\"y\",\"domain\":[0.0,1.0],\"title\":{\"text\":\"Bin\"},\"tickangle\":90},\"yaxis\":{\"anchor\":\"x\",\"domain\":[0.0,1.0],\"title\":{\"text\":\"Accuracy\"}},\"legend\":{\"tracegroupgap\":0},\"title\":{\"text\":\"Gemma-2-2b accuracy by bin\"},\"barmode\":\"relative\",\"paper_bgcolor\":\"white\",\"plot_bgcolor\":\"white\"},                        {\"responsive\": true}                    ).then(function(){\n",
       "                            \n",
       "var gd = document.getElementById('02ad23bc-2026-4031-86cf-f1f4d2c0e151');\n",
       "var x = new MutationObserver(function (mutations, observer) {{\n",
       "        var display = window.getComputedStyle(gd).display;\n",
       "        if (!display || display === 'none') {{\n",
       "            console.log([gd, 'removed!']);\n",
       "            Plotly.purge(gd);\n",
       "            observer.disconnect();\n",
       "        }}\n",
       "}});\n",
       "\n",
       "// Listen for the removal of the full notebook cells\n",
       "var notebookContainer = gd.closest('#notebook-container');\n",
       "if (notebookContainer) {{\n",
       "    x.observe(notebookContainer, {childList: true});\n",
       "}}\n",
       "\n",
       "// Listen for the clearing of the current output cell\n",
       "var outputEl = gd.closest('.output');\n",
       "if (outputEl) {{\n",
       "    x.observe(outputEl, {childList: true});\n",
       "}}\n",
       "\n",
       "                        })                };                });            </script>        </div>"
      ]
     },
     "metadata": {},
     "output_type": "display_data"
    }
   ],
   "source": [
    "import plotly.express as px\n",
    "\n",
    "df_grouped = examples.groupby('bin')['correct'].mean().reset_index()\n",
    "df_grouped['bin'] = df_grouped['bin'].astype(str)\n",
    "\n",
    "fig = px.bar(\n",
    "    df_grouped,\n",
    "    x='bin',\n",
    "    y='correct',\n",
    "    title=\"Gemma-2-2b accuracy by bin\",\n",
    "    labels={'correct': 'Accuracy', 'bin': 'Bin'},\n",
    "    color_discrete_sequence=['skyblue']\n",
    ")\n",
    "\n",
    "fig.update_layout(\n",
    "    template=\"plotly_white\",\n",
    "    xaxis_title=\"Bin\",\n",
    "    yaxis_title=\"Accuracy\",\n",
    "    paper_bgcolor='white',\n",
    "    plot_bgcolor='white'\n",
    ")\n",
    "fig.update_xaxes(tickangle=90)\n",
    "fig.show()"
   ]
  },
  {
   "cell_type": "code",
   "execution_count": 9,
   "metadata": {},
   "outputs": [],
   "source": [
    "#examples.to_csv('gemma-2-2b.csv', index=False)"
   ]
  },
  {
   "cell_type": "markdown",
   "metadata": {},
   "source": [
    "## Dataset"
   ]
  },
  {
   "cell_type": "code",
   "execution_count": 87,
   "metadata": {},
   "outputs": [],
   "source": [
    "import numpy as np\n",
    "import pandas as pd\n",
    "\n",
    "def generate_dataset(N, min_n, max_n, E=0):\n",
    "\n",
    "    zeros = 4\n",
    "\n",
    "    def add_zeros(x, L):\n",
    "        return \"0\" * max(0, zeros - len(str(x))) + str(x)\n",
    "\n",
    "    examples = {\n",
    "        \"x_clean\": [],\n",
    "        \"x_corr\": [],\n",
    "        \"a\": [],\n",
    "        \"b\": [],\n",
    "        \"b_corr\": [],\n",
    "        \"s\": [],\n",
    "        \"s_corr\": []\n",
    "    }\n",
    "\n",
    "    for n in range(0, N):\n",
    "        prompt = \"\"\n",
    "\n",
    "        for _ in range(E):\n",
    "            a, b = np.random.randint(min_n, max_n+1, 2)\n",
    "            c = add_zeros(a + b, zeros)\n",
    "            a, b = add_zeros(a, zeros), add_zeros(b, zeros)\n",
    "            prompt += f\"{a}+{b}={c}\\n\"\n",
    "\n",
    "        a, b = np.random.randint(min_n, max_n+1, 2)\n",
    "        c = add_zeros(a + b, zeros)\n",
    "        a, b = add_zeros(a, zeros), add_zeros(b, zeros)\n",
    "        \n",
    "        change_digit = np.random.randint(1, len(str(max_n)))\n",
    "        b_corr = list(b)\n",
    "        b_corr[-change_digit] = str(np.random.randint(0, 10))\n",
    "        b_corr = \"\".join(b_corr)\n",
    "        c_corr = add_zeros(int(a) + int(b_corr), zeros)\n",
    "\n",
    "        idx = 0\n",
    "        for i in range(len(c)):\n",
    "            if c[i] != c_corr[i]:\n",
    "                idx = i\n",
    "                break\n",
    "\n",
    "        prompt_corr = prompt + f\"{a}+{b_corr}=\" + c_corr[:idx]\n",
    "        prompt += f\"{a}+{b}=\" + c[:idx]\n",
    "        \n",
    "        examples[\"x_clean\"].append(prompt)\n",
    "        examples[\"x_corr\"].append(prompt_corr)\n",
    "\n",
    "        examples[\"a\"].append(a)\n",
    "        examples[\"b\"].append(b)\n",
    "        examples[\"b_corr\"].append(b_corr)\n",
    "\n",
    "        examples[\"s\"].append(c)\n",
    "        examples[\"s_corr\"].append(c_corr)\n",
    "\n",
    "    examples = pd.DataFrame(examples)\n",
    "\n",
    "    def BA(x):\n",
    "        BAs = [(int(x[\"a\"][i]) + int(x[\"b\"][i])) % 10 for i in range(zeros)]\n",
    "        return BAs\n",
    "\n",
    "    def MC(x):\n",
    "        MCs = [(int(x[\"a\"][i]) + int(x[\"b\"][i])) > 9 for i in range(zeros)]\n",
    "        return MCs\n",
    "\n",
    "    def MS9(x):\n",
    "        MS9s = [(int(x[\"a\"][i]) + int(x[\"b\"][i])) == 9 for i in range(zeros)]\n",
    "        return MS9s\n",
    "\n",
    "    examples[[\"BAth\", \"BAhu\", \"BAte\", \"BAun\"]] = examples.apply(lambda x: BA(x), axis=1, result_type=\"expand\")\n",
    "    examples[[\"MCth\", \"MChu\", \"MCte\", \"MCun\"]] = examples.apply(lambda x: MC(x), axis=1, result_type=\"expand\")\n",
    "    examples[[\"MS9th\", \"MS9hu\", \"MS9te\", \"MS9un\"]] = examples.apply(lambda x: MS9(x), axis=1, result_type=\"expand\")\n",
    "\n",
    "    def US9(x):\n",
    "        US9s = [False]\n",
    "\n",
    "        for i, j in zip([\"te\", \"hu\", \"th\"], [\"un\", \"te\", \"hu\"]):\n",
    "            US9s.append(x[f\"MS9{i}\"] and (x[f\"MC{j}\"] or US9s[-1]))\n",
    "        \n",
    "        return US9s\n",
    "\n",
    "    examples[[\"US9un\", \"US9te\", \"US9hu\", \"US9th\"]] = examples.apply(lambda x: US9(x), axis=1, result_type=\"expand\")\n",
    "    \n",
    "    return examples"
   ]
  },
  {
   "cell_type": "code",
   "execution_count": 88,
   "metadata": {},
   "outputs": [],
   "source": [
    "data = generate_dataset(1024, 500, 1500, E=2)"
   ]
  },
  {
   "cell_type": "code",
   "execution_count": 92,
   "metadata": {},
   "outputs": [
    {
     "data": {
      "text/plain": [
       "MCth     0.000000\n",
       "MChu     0.458984\n",
       "MCte     0.447266\n",
       "MCun     0.457031\n",
       "MS9th    0.000000\n",
       "MS9hu    0.116211\n",
       "MS9te    0.118164\n",
       "MS9un    0.115234\n",
       "US9un    0.000000\n",
       "US9te    0.044922\n",
       "US9hu    0.049805\n",
       "US9th    0.000000\n",
       "dtype: float64"
      ]
     },
     "execution_count": 92,
     "metadata": {},
     "output_type": "execute_result"
    }
   ],
   "source": [
    "data.iloc[:, 11:].mean()"
   ]
  },
  {
   "cell_type": "markdown",
   "metadata": {},
   "source": [
    "## Interp"
   ]
  },
  {
   "cell_type": "code",
   "execution_count": 10,
   "metadata": {},
   "outputs": [],
   "source": [
    "from nnsight import LanguageModel\n",
    "\n",
    "lm = LanguageModel(model, dispatch=True)"
   ]
  },
  {
   "cell_type": "code",
   "execution_count": 11,
   "metadata": {},
   "outputs": [],
   "source": [
    "from dictionary_learning. import AutoEncoder\n",
    "\n",
    "ae = AutoEncoder.from_pretrained_npz('dictionary_learning/attn_out_layer_0/params.npz', activation_dim=2304, dict_size=16384)"
   ]
  },
  {
   "cell_type": "code",
   "execution_count": 35,
   "metadata": {},
   "outputs": [
    {
     "data": {
      "text/plain": [
       "(2304, 16384)"
      ]
     },
     "execution_count": 35,
     "metadata": {},
     "output_type": "execute_result"
    }
   ],
   "source": [
    "data['W_enc'].shape"
   ]
  },
  {
   "cell_type": "code",
   "execution_count": 17,
   "metadata": {},
   "outputs": [
    {
     "data": {
      "text/plain": [
       "tensor([[    2, 17534,  2134,   749]])"
      ]
     },
     "execution_count": 17,
     "metadata": {},
     "output_type": "execute_result"
    }
   ],
   "source": [
    "tokenizer('hello world do', return_tensors='pt')['input_ids']"
   ]
  },
  {
   "cell_type": "code",
   "execution_count": 19,
   "metadata": {},
   "outputs": [
    {
     "data": {
      "text/plain": [
       "tensor([[   2, 1721]])"
      ]
     },
     "execution_count": 19,
     "metadata": {},
     "output_type": "execute_result"
    }
   ],
   "source": [
    "tokenizer(' does', return_tensors='pt')['input_ids']"
   ]
  },
  {
   "cell_type": "code",
   "execution_count": null,
   "metadata": {},
   "outputs": [],
   "source": []
  }
 ],
 "metadata": {
  "kernelspec": {
   "display_name": "venv",
   "language": "python",
   "name": "python3"
  },
  "language_info": {
   "codemirror_mode": {
    "name": "ipython",
    "version": 3
   },
   "file_extension": ".py",
   "mimetype": "text/x-python",
   "name": "python",
   "nbconvert_exporter": "python",
   "pygments_lexer": "ipython3",
   "version": "3.10.13"
  }
 },
 "nbformat": 4,
 "nbformat_minor": 2
}
